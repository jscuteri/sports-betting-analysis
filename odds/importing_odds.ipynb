{
 "cells": [
  {
   "cell_type": "code",
   "execution_count": 1,
   "id": "98b8b12f",
   "metadata": {},
   "outputs": [],
   "source": [
    "# Imports\n",
    "\n",
    "import pandas as pd"
   ]
  },
  {
   "cell_type": "code",
   "execution_count": 2,
   "id": "f6da2c21",
   "metadata": {},
   "outputs": [],
   "source": [
    "# Navigate to website\n",
    "# Download CSV file\n",
    "# Save file to correct path\n",
    "# Rename file -- if possible use today's date"
   ]
  },
  {
   "cell_type": "code",
   "execution_count": 3,
   "id": "249af365",
   "metadata": {},
   "outputs": [],
   "source": [
    "# Import file\n",
    "today_odds = \"../raw_data/mlb_odds_07112022.csv\"\n",
    "\n",
    "# Read file\n",
    "df = pd.read_csv(today_odds)"
   ]
  },
  {
   "cell_type": "code",
   "execution_count": 4,
   "id": "4669638d",
   "metadata": {},
   "outputs": [],
   "source": [
    "# Change top row to headers\n",
    "new_header = df.iloc[0]\n",
    "df = df[0:] \n",
    "df.columns = new_header \n",
    "\n",
    "# Remove duplicate header row\n",
    "df = df.iloc[1:]"
   ]
  },
  {
   "cell_type": "code",
   "execution_count": 5,
   "id": "09a55082",
   "metadata": {},
   "outputs": [],
   "source": [
    "# Rename columns for $20 bets to 'Remove'\n",
    "df.columns = ['Teams', 'Date & Time', 'Moneyline', 'Spread', 'Line', 'O/U','O/U Line', 'Remove', 'Remove', 'Remove', 'Starting Pitcher']\n",
    "\n",
    "# Drop all the 'Remove' columns\n",
    "df = df.drop('Remove', axis=1)"
   ]
  },
  {
   "cell_type": "code",
   "execution_count": 6,
   "id": "f978d923",
   "metadata": {},
   "outputs": [],
   "source": [
    "# Break 'Date & Time' into 'Date' and 'Time'. \n",
    "df[['Date', 'Time']] = df['Date & Time'].str.split(\" \", 1, expand=True)\n",
    "\n",
    "# Set 'Time' to 12 hour clock\n",
    "df['Time (EST)'] = pd.to_datetime(df['Time']).dt.strftime('%I:%M %p')"
   ]
  },
  {
   "cell_type": "code",
   "execution_count": 7,
   "id": "d1a9569d",
   "metadata": {},
   "outputs": [],
   "source": [
    "# Reorder the dataframe\n",
    "df = df[['Teams', 'Date', 'Time (EST)', 'Moneyline' , 'Spread', 'Line', 'O/U', 'O/U Line', 'Starting Pitcher', 'Date & Time']]\n",
    "\n",
    "# Remove \"Date & Time\"\n",
    "df = df.drop('Date & Time', axis=1)"
   ]
  },
  {
   "cell_type": "code",
   "execution_count": 8,
   "id": "c6956566",
   "metadata": {},
   "outputs": [
    {
     "data": {
      "text/plain": [
       "4.0"
      ]
     },
     "execution_count": 8,
     "metadata": {},
     "output_type": "execute_result"
    }
   ],
   "source": [
    "# Number of games today\n",
    "number_of_games = len(df.index)/2\n",
    "number_of_games"
   ]
  },
  {
   "cell_type": "code",
   "execution_count": 9,
   "id": "0323060a",
   "metadata": {},
   "outputs": [],
   "source": [
    "# Separate each game - maximum of 15 games on any given day\n",
    "\n",
    "game1 = df.iloc[:2]\n",
    "game2 = df.iloc[2:4]\n",
    "game3 = df.iloc[4:6]\n",
    "game4 = df.iloc[6:8]\n",
    "game5 = df.iloc[8:10]\n",
    "game6 = df.iloc[10:12]\n",
    "game7 = df.iloc[12:14]\n",
    "game8 = df.iloc[14:16]\n",
    "game9 = df.iloc[16:18]\n",
    "game10 = df.iloc[18:20]\n",
    "game11 = df.iloc[20:22]\n",
    "game12 = df.iloc[22:24]\n",
    "game13 = df.iloc[24:26]\n",
    "game14 = df.iloc[26:28]\n",
    "game15 = df.iloc[28:30]"
   ]
  },
  {
   "cell_type": "code",
   "execution_count": 10,
   "id": "d4b18f23",
   "metadata": {},
   "outputs": [
    {
     "data": {
      "text/html": [
       "<div>\n",
       "<style scoped>\n",
       "    .dataframe tbody tr th:only-of-type {\n",
       "        vertical-align: middle;\n",
       "    }\n",
       "\n",
       "    .dataframe tbody tr th {\n",
       "        vertical-align: top;\n",
       "    }\n",
       "\n",
       "    .dataframe thead th {\n",
       "        text-align: right;\n",
       "    }\n",
       "</style>\n",
       "<table border=\"1\" class=\"dataframe\">\n",
       "  <thead>\n",
       "    <tr style=\"text-align: right;\">\n",
       "      <th></th>\n",
       "      <th>Teams</th>\n",
       "      <th>Date</th>\n",
       "      <th>Time (EST)</th>\n",
       "      <th>Moneyline</th>\n",
       "      <th>Spread</th>\n",
       "      <th>Line</th>\n",
       "      <th>O/U</th>\n",
       "      <th>O/U Line</th>\n",
       "      <th>Starting Pitcher</th>\n",
       "    </tr>\n",
       "  </thead>\n",
       "  <tbody>\n",
       "    <tr>\n",
       "      <th>1</th>\n",
       "      <td>Athletics</td>\n",
       "      <td>7/11/22</td>\n",
       "      <td>08:05 PM</td>\n",
       "      <td>154</td>\n",
       "      <td>1.5</td>\n",
       "      <td>-125</td>\n",
       "      <td>8.5</td>\n",
       "      <td>-118</td>\n",
       "      <td>Adrian Martinez</td>\n",
       "    </tr>\n",
       "    <tr>\n",
       "      <th>2</th>\n",
       "      <td>Rangers</td>\n",
       "      <td>7/11/22</td>\n",
       "      <td>08:05 PM</td>\n",
       "      <td>-175</td>\n",
       "      <td>-1.5</td>\n",
       "      <td>110</td>\n",
       "      <td>8.5</td>\n",
       "      <td>100</td>\n",
       "      <td>Spencer Howard</td>\n",
       "    </tr>\n",
       "  </tbody>\n",
       "</table>\n",
       "</div>"
      ],
      "text/plain": [
       "       Teams     Date Time (EST) Moneyline Spread  Line  O/U O/U Line  \\\n",
       "1  Athletics  7/11/22   08:05 PM       154    1.5  -125  8.5     -118   \n",
       "2    Rangers  7/11/22   08:05 PM      -175   -1.5   110  8.5      100   \n",
       "\n",
       "  Starting Pitcher  \n",
       "1  Adrian Martinez  \n",
       "2   Spencer Howard  "
      ]
     },
     "execution_count": 10,
     "metadata": {},
     "output_type": "execute_result"
    }
   ],
   "source": [
    "game1"
   ]
  },
  {
   "cell_type": "code",
   "execution_count": null,
   "id": "229ade99",
   "metadata": {},
   "outputs": [],
   "source": []
  }
 ],
 "metadata": {
  "kernelspec": {
   "display_name": "Python [conda env:PythonData] *",
   "language": "python",
   "name": "conda-env-PythonData-py"
  },
  "language_info": {
   "codemirror_mode": {
    "name": "ipython",
    "version": 3
   },
   "file_extension": ".py",
   "mimetype": "text/x-python",
   "name": "python",
   "nbconvert_exporter": "python",
   "pygments_lexer": "ipython3",
   "version": "3.8.11"
  }
 },
 "nbformat": 4,
 "nbformat_minor": 5
}
